{
 "cells": [
  {
   "cell_type": "code",
   "execution_count": 2,
   "metadata": {},
   "outputs": [],
   "source": [
    "import pandas as pd\n",
    "import random\n",
    "import datetime\n",
    "import numpy as np"
   ]
  },
  {
   "cell_type": "code",
   "execution_count": null,
   "metadata": {},
   "outputs": [],
   "source": [
    "no_of_records=30\n",
    "dates=pd.date_range(start='2024-01-01',end='2024-12-31',periods=no_of_records).date\n",
    "prices=[round(random.uniform(10,100),2) for _ in range(no_of_records)]\n",
    "product_ids=[random.randint(1,10) for _ in range(no_of_records)]\n",
    "quantities=[random.randint(1,10) for _ in range(no_of_records)]\n",
    "serial_nos=[f\"SN-{random.randint(1000,9999)}\" for _ in range(no_of_records)]\n"
   ]
  },
  {
   "cell_type": "code",
   "execution_count": null,
   "metadata": {},
   "outputs": [],
   "source": []
  }
 ],
 "metadata": {
  "kernelspec": {
   "display_name": "Python 3",
   "language": "python",
   "name": "python3"
  },
  "language_info": {
   "codemirror_mode": {
    "name": "ipython",
    "version": 3
   },
   "file_extension": ".py",
   "mimetype": "text/x-python",
   "name": "python",
   "nbconvert_exporter": "python",
   "pygments_lexer": "ipython3",
   "version": "3.12.4"
  }
 },
 "nbformat": 4,
 "nbformat_minor": 2
}
